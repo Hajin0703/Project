{
 "cells": [
  {
   "cell_type": "markdown",
   "metadata": {},
   "source": [
    "### 협업일지\n",
    "#### 일자 : 2025-04-28 / 박하진"
   ]
  },
  {
   "cell_type": "markdown",
   "metadata": {},
   "source": [
    "#### 오늘 할 일\n",
    "- 이탈 원인 심층 분석\n",
    "- \n",
    "-"
   ]
  },
  {
   "cell_type": "markdown",
   "metadata": {},
   "source": [
    "#### 오늘 한 일\n",
    "-\n",
    "-"
   ]
  },
  {
   "cell_type": "markdown",
   "metadata": {},
   "source": [
    "#### 내일 할 일\n",
    "-\n",
    "-\n",
    "-"
   ]
  },
  {
   "cell_type": "markdown",
   "metadata": {},
   "source": [
    "#### Codes"
   ]
  },
  {
   "cell_type": "markdown",
   "metadata": {},
   "source": [
    "#### Issues & Challenges\n",
    "-\n",
    "-\n",
    "-"
   ]
  },
  {
   "cell_type": "markdown",
   "metadata": {},
   "source": [
    "#### Reflection\n",
    "\n",
    "이탈 원인 심층 분석 (Retention Dropping Point 원인 파악)\n",
    "\n",
    "목표: 특정 시점에 왜 사용자가 떠났는지를 정량/정성적으로 파악\n",
    "분석 아이디어:\n",
    "\n",
    "이탈 직전 행동 분석\n",
    "\n",
    "이탈한 유저들의 마지막 1~3일간 활동 패턴 비교\n",
    "\n",
    "이탈 vs 잔존 사용자 비교\n",
    "\n",
    "동일 시점 기준, 행동 지표(투표 수, 감정 변화량, 상호작용 수 등) 비교\n",
    "\n",
    "\"가입 후 7일 이내, 3일 이상 미참여 → 이탈 간주\" -> 초기 사용자의 몰입 실패를 빠르게 캐치"
   ]
  }
 ],
 "metadata": {
  "language_info": {
   "name": "python"
  }
 },
 "nbformat": 4,
 "nbformat_minor": 2
}
