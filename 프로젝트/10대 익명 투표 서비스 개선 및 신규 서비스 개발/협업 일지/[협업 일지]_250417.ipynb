{
 "cells": [
  {
   "cell_type": "markdown",
   "metadata": {},
   "source": [
    "### 협업일지\n",
    "#### 일자 : 2025-04-17 / 박하진"
   ]
  },
  {
   "cell_type": "markdown",
   "metadata": {},
   "source": [
    "#### 오늘 할 일\n",
    "- 계속해서 데이터 탐색 후 주제 선정해보기\n",
    "- \n",
    "-"
   ]
  },
  {
   "cell_type": "markdown",
   "metadata": {},
   "source": [
    "#### 오늘 한 일\n",
    "- 데이터 탐색한 결과 공유 및 프로젝트 주제 선정\n",
    "- 프로젝트의 방향성 설계"
   ]
  },
  {
   "cell_type": "markdown",
   "metadata": {},
   "source": [
    "#### 내일 할 일\n",
    "-\n",
    "-\n",
    "-"
   ]
  },
  {
   "cell_type": "markdown",
   "metadata": {},
   "source": [
    "#### Codes"
   ]
  },
  {
   "cell_type": "markdown",
   "metadata": {},
   "source": [
    "#### Issues & Challenges\n",
    "-\n",
    "-\n",
    "-"
   ]
  },
  {
   "cell_type": "markdown",
   "metadata": {},
   "source": [
    "#### Reflection\n",
    "- 데이터 탐색을 하기 앞서 팀원들과 회의를 해서 프로젝트의 대주제를 잡고 진행 방향성을 어떻게 잡으면 좋을지 논의했다.\n",
    "- EDA 결과로 미루어 보아 서비스 지속성이 낮고, 활성화가 잘 안되고 있는 상황임을 확인했다. 그래서 우리 팀의 프로젝트 대주제로 서비스 지속성 활성화 개선방안 도출을 하기로 했다.\n",
    "- 나와 정은님은 서비스가 제대로 되고있는지 현황파악, 근거마련을 위한 데이터 분석을 더 진행하고, 승윤님과 지원님은 서비스 개선방안을 마련하기로 결정했다."
   ]
  }
 ],
 "metadata": {
  "language_info": {
   "name": "python"
  }
 },
 "nbformat": 4,
 "nbformat_minor": 2
}
