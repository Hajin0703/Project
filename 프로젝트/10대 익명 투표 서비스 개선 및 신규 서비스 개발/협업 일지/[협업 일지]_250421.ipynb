{
 "cells": [
  {
   "cell_type": "markdown",
   "metadata": {},
   "source": [
    "### 협업일지\n",
    "#### 일자 : 2025-04-21 / 박하진"
   ]
  },
  {
   "cell_type": "markdown",
   "metadata": {},
   "source": [
    "#### 오늘 할 일\n",
    "- 본격적으로 서비스 지속성이 낮은 원인에 대한 탐색, 분석을 진행하기\n",
    "- \n",
    "-"
   ]
  },
  {
   "cell_type": "markdown",
   "metadata": {},
   "source": [
    "#### 오늘 한 일\n",
    "-\n",
    "-"
   ]
  },
  {
   "cell_type": "markdown",
   "metadata": {},
   "source": [
    "#### 내일 할 일\n",
    "-\n",
    "-\n",
    "-"
   ]
  },
  {
   "cell_type": "markdown",
   "metadata": {},
   "source": [
    "#### Codes"
   ]
  },
  {
   "cell_type": "markdown",
   "metadata": {},
   "source": [
    "#### Issues & Challenges\n",
    "-\n",
    "-\n",
    "-"
   ]
  },
  {
   "cell_type": "markdown",
   "metadata": {},
   "source": [
    "#### Reflection\n",
    "- 가입자와 활동자 데이터가 정확히 연결되어있는지 확인하고, 가입 시점과 활동 기록간의 시점 연결성을 파악.\n",
    "- 지속성 저하 요인을 찾는 분석 로드맵 구성\n",
    "\n",
    "1. 사용자 그룹 나누기 (행동 기반 세분화)\n",
    "유저들이 어떤 방식으로 서비스를 사용하는지를 파악\n",
    "\n",
    "2. 이탈 징후 분석 (가입만 하고 활동 없음 / 단기 이용 후 이탈)\n",
    "특정 시점에 유입은 되었지만 빠르게 이탈한 유저가 많다면\n",
    "서비스 초기경험(온보딩)에 문제가 있을 수 있음\n",
    "\n",
    "3. 행동 패턴/기능 이용 패턴 기반 분석\n",
    "지속성이 낮은 유저들은 서비스의 어떤 기능을 안 쓰는가?를 파악"
   ]
  }
 ],
 "metadata": {
  "language_info": {
   "name": "python"
  }
 },
 "nbformat": 4,
 "nbformat_minor": 2
}
