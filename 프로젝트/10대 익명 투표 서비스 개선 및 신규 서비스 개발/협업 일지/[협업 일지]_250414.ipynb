{
 "cells": [
  {
   "cell_type": "markdown",
   "metadata": {},
   "source": [
    "### 협업일지\n",
    "#### 일자 : 2025-04-14 / 박하진"
   ]
  },
  {
   "cell_type": "markdown",
   "metadata": {},
   "source": [
    "#### 오늘 할 일\n",
    "- 데이터 셋 준비하기\n",
    "- 데이터 둘러보기\n",
    "-"
   ]
  },
  {
   "cell_type": "markdown",
   "metadata": {},
   "source": [
    "#### 오늘 한 일\n",
    "- 데이터 셋 준비\n",
    "- 데이터 탐색"
   ]
  },
  {
   "cell_type": "markdown",
   "metadata": {},
   "source": [
    "#### 내일 할 일\n",
    "- 데이터 탐색\n",
    "- 앱 관련 조사\n",
    "-"
   ]
  },
  {
   "cell_type": "markdown",
   "metadata": {},
   "source": [
    "#### Codes"
   ]
  },
  {
   "cell_type": "markdown",
   "metadata": {},
   "source": [
    "#### Issues & Challenges\n",
    "-\n",
    "-\n",
    "-"
   ]
  },
  {
   "cell_type": "markdown",
   "metadata": {},
   "source": [
    "#### Reflection\n",
    "- 주제를 선정하기 보단 먼저 어떤 데이터 셋을 제공받았는지 데이터 셋을 준비했다. 이전 프로젝트들과는 다르게 sql dump 파일로 받아서 분석을 할 수 있게 내 컴퓨터 환경에 맞춰 준비 작업을 먼저 실시했다.\n",
    "- 오늘은 간단히 어떤 테이블에 어떤 데이터들이 들어있고, 결측값들이 존재하는지 정도로 살펴보았다. 다행히 결측값이 많이 없어서 결측값 처리에 대한 걱정은 없어도 될 것 같다.\n",
    "- "
   ]
  }
 ],
 "metadata": {
  "language_info": {
   "name": "python"
  }
 },
 "nbformat": 4,
 "nbformat_minor": 2
}
