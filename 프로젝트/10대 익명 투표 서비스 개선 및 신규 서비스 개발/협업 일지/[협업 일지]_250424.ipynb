{
 "cells": [
  {
   "cell_type": "markdown",
   "metadata": {},
   "source": [
    "### 협업일지\n",
    "#### 일자 : 2025-04-24 / 박하진"
   ]
  },
  {
   "cell_type": "markdown",
   "metadata": {},
   "source": [
    "#### 오늘 할 일\n",
    "- 월별 가입자 잔존율 파악을 위한 Cohort 분석 준비\n",
    "- \n",
    "-"
   ]
  },
  {
   "cell_type": "markdown",
   "metadata": {},
   "source": [
    "#### 오늘 한 일\n",
    "-\n",
    "-"
   ]
  },
  {
   "cell_type": "markdown",
   "metadata": {},
   "source": [
    "#### 내일 할 일\n",
    "-\n",
    "-\n",
    "-"
   ]
  },
  {
   "cell_type": "markdown",
   "metadata": {},
   "source": [
    "#### Codes"
   ]
  },
  {
   "cell_type": "markdown",
   "metadata": {},
   "source": [
    "#### Issues & Challenges\n",
    "-\n",
    "-\n",
    "-"
   ]
  },
  {
   "cell_type": "markdown",
   "metadata": {},
   "source": [
    "#### Reflection\n",
    "\n",
    "분석 흐름 요약\n",
    "accounts_user에서 유저별 가입 월을 계산 → cohort_month\n",
    "\n",
    "accounts_userquestionrecord에서 유저별 활동 월을 계산 → activity_month\n",
    "\n",
    "가입 월과 활동 월의 차이를 계산해서 → cohort_index\n",
    "\n",
    "cohort_month 기준으로 cohort_index에 따른 유저 수 카운팅\n",
    "\n",
    "Heatmap 형태로 시각화\n",
    "\n",
    "코호트 분석 진행 중 중복값 처리 문제로 아직 분석을 다 하지 못함. 내일 더 진행해 볼 예정."
   ]
  }
 ],
 "metadata": {
  "language_info": {
   "name": "python"
  }
 },
 "nbformat": 4,
 "nbformat_minor": 2
}
