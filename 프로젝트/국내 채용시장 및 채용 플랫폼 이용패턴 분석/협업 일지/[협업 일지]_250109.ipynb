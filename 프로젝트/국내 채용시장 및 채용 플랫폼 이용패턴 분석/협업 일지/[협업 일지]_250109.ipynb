{
 "cells": [
  {
   "cell_type": "markdown",
   "metadata": {},
   "source": [
    "### 협업일지\n",
    "#### 일자 : 2025-01-09 / 박하진"
   ]
  },
  {
   "cell_type": "markdown",
   "metadata": {},
   "source": [
    "#### 오늘 할 일\n",
    "-\n",
    "-\n",
    "-"
   ]
  },
  {
   "cell_type": "markdown",
   "metadata": {},
   "source": [
    "#### 오늘 한 일\n",
    "- 연구 질문별 분석 접근 방법 생각하기\n",
    "-\n",
    "-"
   ]
  },
  {
   "cell_type": "markdown",
   "metadata": {},
   "source": [
    "#### 내일 할 일\n",
    "-\n",
    "-\n",
    "-"
   ]
  },
  {
   "cell_type": "markdown",
   "metadata": {},
   "source": [
    "#### Codes"
   ]
  },
  {
   "cell_type": "markdown",
   "metadata": {},
   "source": [
    "#### Issues & Challenges\n",
    "-\n",
    "-\n",
    "-"
   ]
  },
  {
   "cell_type": "markdown",
   "metadata": {},
   "source": [
    "#### Reflection\n",
    "- Q1. 북마크 후 실제 지원까지 소요되는 평균 시간은 얼마인가?\n",
    "    \n",
    "    목표 : 북마크 후 지원까지 걸린 시간(시간 차이)의 평균 및 분포 확인\n",
    "    - 접근 방법 : Jobbookmark와 Application 데이터를 user_uuid 및 job_uuid 기준으로 조인.\n",
    "    - 각 북마크 기록에 대해 지원 생성일과 북마크 생성일의 차이를 계산\n",
    "    - 평균, 중앙값, 최빈값 등 기술 통계를 도출\n",
    "    - 히스토그램 또는 박스 플랏을 사용해 소요 시간 분포를 시각화\n",
    "\n",
    "- Q2. 북마크 후 공고 페이지를 다시 방문한 사용자와 그렇지 않은 사용자 간 전환율 차이가 있는가?\n",
    "    \n",
    "    목표 : 재방문 여부와 전환율 간 상관관계 확인.\n",
    "    - 접근 방법 : Log 데이터를 사용하여, 북마크한 공고 URL에 재방문한 사용자를 식별:\n",
    "    - 조건: 북마크 생성일(Jobbookmark.cdate) 이후 해당 공고 URL을 방문한 기록 존재 여부.\n",
    "    - 사용자 그룹 나누기: 그룹 1: 재방문한 사용자. 그룹 2: 재방문하지 않은 사용자.\n",
    "    - 각 그룹별 전환율 계산:\n",
    "        - 전환율 = (지원한 사용자 수) / (그룹 내 총 사용자 수).\n",
    "        - 카이제곱 검정 또는 t-검정을 사용해 두 그룹 간의 전환율 차이가 통계적으로 유의한지 확인.\n",
    "\n",
    "- Q3. 어떤 유형의 공고가 북마크 후 지원으로 이어질 가능성이 높은가?\n",
    "    \n",
    "    목표: 공고 특성과 전환율 간 관계 분석.\n",
    "    - 접근 방법 : Job 데이터를 결합하여 공고 특성(job_field, career_type_string, allow_remote 등)을 추가.\n",
    "    - 공고별 전환율 계산: 전환율 = (북마크 후 지원된 횟수) / (북마크된 총 횟수).\n",
    "    - 공고 특성별 전환율을 비교: \n",
    "        - 직무 분야별(job_field) 전환율 차이.\n",
    "        - 경력 요구사항(career_type_string)에 따른 전환율 차이.\n",
    "        - 원격 근무 가능 여부(allow_remote)에 따른 전환율 차이.\n",
    "    - 결과를 시각화(예: 막대 그래프, 히트맵 등)하여 상관관계 파악."
   ]
  }
 ],
 "metadata": {
  "language_info": {
   "name": "python"
  }
 },
 "nbformat": 4,
 "nbformat_minor": 2
}
