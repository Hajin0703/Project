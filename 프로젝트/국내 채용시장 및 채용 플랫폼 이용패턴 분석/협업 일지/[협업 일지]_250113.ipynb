{
 "cells": [
  {
   "cell_type": "markdown",
   "metadata": {},
   "source": [
    "### 협업일지\n",
    "#### 일자 : 2025-01-13 / 박하진"
   ]
  },
  {
   "cell_type": "markdown",
   "metadata": {},
   "source": [
    "#### 오늘 할 일\n",
    "- 주제를 확실히 정했고 주제에 대한 데이터 처리, 분석을 진행\n",
    "-\n",
    "-"
   ]
  },
  {
   "cell_type": "markdown",
   "metadata": {},
   "source": [
    "#### 오늘 한 일\n",
    "-\n",
    "-\n",
    "-"
   ]
  },
  {
   "cell_type": "markdown",
   "metadata": {},
   "source": [
    "#### 내일 할 일\n",
    "-\n",
    "-\n",
    "-"
   ]
  },
  {
   "cell_type": "markdown",
   "metadata": {},
   "source": [
    "#### Codes"
   ]
  },
  {
   "cell_type": "markdown",
   "metadata": {},
   "source": [
    "#### Issues & Challenges\n",
    "-\n",
    "-\n",
    "-"
   ]
  },
  {
   "cell_type": "markdown",
   "metadata": {},
   "source": [
    "#### Reflection\n",
    "- ### Q1 분석 계획: 북마크 후 실제 지원까지 소요되는 평균 시간 분석\n",
    "\n",
    "1. 데이터 준비\n",
    "- 북마크 데이터:\n",
    "    - user_uuid, job_uuid, company_uuid, timestamp (북마크한 시점) 포함.\n",
    "- 지원 데이터:\n",
    "     -user_uuid, job_uuid, company_uuid, cdate (지원 날짜) 포함.\n",
    "- 두 데이터셋을 user_uuid와 job_uuid를 기준으로 조인하여, 북마크 시점(timestamp)과 지원 시점(cdate)을 연결.\n",
    "\n",
    "2. 소요 시간 계산\n",
    "- 소요 시간 = 지원 시점(cdate) - 북마크 시점(timestamp)\n",
    "    - 날짜 데이터를 datetime 형식으로 변환한 후 차이를 계산.\n",
    "\n",
    "3. 평균 소요 시간 산출\n",
    "- 모든 데이터에서 소요 시간을 계산한 후, 평균 값을 구함.\n",
    "- 소요 시간 분포를 확인하여 중앙값도 함께 계산(왜곡된 값이 있는 경우 대비).\n",
    "\n",
    "전에 세웠던 Q1-3중 Q1에 대해 먼저 시작하였습니다.\n",
    "cdate 컬럼에 대한 전처리 부분이 좀 까다로웠지만 결과는 만족스럽게 나온 것 같습니다.\n",
    "\n",
    "북마크를 개선하기 위한 대상으로 선택하게된 이유에 대한 근거를 마련하기 위한 분석이었고,\n",
    "분석 결과 북마크 후 지원하는데 소요되는 시간이 짧은 인사이트를 얻을 수 있었습니다.\n",
    "\n",
    "하지만 북마크 사용/미사용의 비율이 50:50으로 활발히 사용되고 있지 않다는 점도 알아냈습니다."
   ]
  }
 ],
 "metadata": {
  "language_info": {
   "name": "python"
  }
 },
 "nbformat": 4,
 "nbformat_minor": 2
}
