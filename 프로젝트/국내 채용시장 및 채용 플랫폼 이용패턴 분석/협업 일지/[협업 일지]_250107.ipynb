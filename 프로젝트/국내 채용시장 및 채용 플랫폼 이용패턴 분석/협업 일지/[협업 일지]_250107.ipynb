{
 "cells": [
  {
   "cell_type": "markdown",
   "metadata": {},
   "source": [
    "### 협업일지\n",
    "#### 일자 : 2025-01-07 / 박하진"
   ]
  },
  {
   "cell_type": "markdown",
   "metadata": {},
   "source": [
    "#### 오늘 할 일\n",
    "-\n",
    "-\n",
    "-"
   ]
  },
  {
   "cell_type": "markdown",
   "metadata": {},
   "source": [
    "#### 오늘 한 일\n",
    "- 데이터 셋을 전체적으로 한번 확인하고 어떤 주제로 분석할 지 정하기\n",
    "-\n",
    "-"
   ]
  },
  {
   "cell_type": "markdown",
   "metadata": {},
   "source": [
    "#### 내일 할 일\n",
    "- 선정한 채용 데이터 셋을 활용하여 주제 정하기\n",
    "-\n",
    "-"
   ]
  },
  {
   "cell_type": "markdown",
   "metadata": {},
   "source": [
    "#### Codes"
   ]
  },
  {
   "cell_type": "markdown",
   "metadata": {},
   "source": [
    "#### Issues & Challenges\n",
    "-\n",
    "-\n",
    "-"
   ]
  },
  {
   "cell_type": "markdown",
   "metadata": {},
   "source": [
    "#### Reflection\n",
    "- 첫 날이라 아직 큰 틀의 주제도 정하지 못해 어떻게 시작을 해야할 지 감도 잡히지 않는 상태에 빠져버렸다. 아무래도 강사님께 조언을 구해봐야 할 것 같다.\n",
    "- 채용 데이터 셋과 구독 데이터 셋 두 개의 데이터 셋 중 하나를 골라서 주제를 선정해야 해서, 두 개의 데이터 셋을 어느정도 훑어 보았다.\n",
    "- 구독 데이터 셋의 id 부분에서 결측치 비율이 40% 정도 존재하는 걸 확인해서 팀원들과의 상의 후 채용 데이터 셋을 이용해 분석을 하자는 의견을 냈다."
   ]
  }
 ],
 "metadata": {
  "language_info": {
   "name": "python"
  }
 },
 "nbformat": 4,
 "nbformat_minor": 2
}
