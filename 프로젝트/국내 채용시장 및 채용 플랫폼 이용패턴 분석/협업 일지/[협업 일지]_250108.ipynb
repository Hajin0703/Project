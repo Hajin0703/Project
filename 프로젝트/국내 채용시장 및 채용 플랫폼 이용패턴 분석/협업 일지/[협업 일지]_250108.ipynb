{
 "cells": [
  {
   "cell_type": "markdown",
   "metadata": {},
   "source": [
    "### 협업일지\n",
    "#### 일자 : 2025-01-08 / 박하진"
   ]
  },
  {
   "cell_type": "markdown",
   "metadata": {},
   "source": [
    "#### 오늘 할 일\n",
    "- 채용 데이터 셋 확인하여 분석할 주제 정하기\n",
    "-\n",
    "-"
   ]
  },
  {
   "cell_type": "markdown",
   "metadata": {},
   "source": [
    "#### 오늘 한 일\n",
    "- 주제 초안 작성하기\n",
    "-\n",
    "-"
   ]
  },
  {
   "cell_type": "markdown",
   "metadata": {},
   "source": [
    "#### 내일 할 일\n",
    "-\n",
    "-\n",
    "-"
   ]
  },
  {
   "cell_type": "markdown",
   "metadata": {},
   "source": [
    "#### Codes"
   ]
  },
  {
   "cell_type": "markdown",
   "metadata": {},
   "source": [
    "#### Issues & Challenges\n",
    "-\n",
    "-\n",
    "-"
   ]
  },
  {
   "cell_type": "markdown",
   "metadata": {},
   "source": [
    "#### Reflection\n",
    "주제 - 북마크가 된 채용 공고가 실제 지원으로 이어지는지 사용자 행동 패턴 분석\n",
    "\n",
    "채용 플랫폼에서 사용자가 공고를 북마크한 후 실제 지원으로 이어지는 전환율을 높이는것이\n",
    "사용자 경험과 비즈니스 성과에 모두 중요하다고 생각\n",
    "\n",
    "사용자의 로그 데이터를 활용해, 북마크와 실제 지원 행동 사이에 어떤 패턴이 있는지 파악하고,\n",
    "전환율을 높이기 위한 인사이트 도출\n",
    "\n",
    "주요 질문\n",
    "\n",
    "1. 북마크한 후 실제 지원까지 소요되는 평균 시간은 얼마인가?\n",
    "2. 북마크 후 공고 페이지를 다시 방문한 사용자와 그렇지 않은 사용자 간 전환율 차이가 있는가?\n",
    "3. 어떤 유형의 공고(예: 원격 가능, 특정 직무)가 북마크 후 지원으로 이어질 가능성이 높은가?\n",
    "4. 로그 데이터에서 사용자가 북마크한 공고에 재접속하는 빈도와 전환율의 관계는 무엇인가?\n",
    "5. 특정 기업이나 공고의 특성이 북마크 후 전환율에 어떤 영향을 미치는가?"
   ]
  }
 ],
 "metadata": {
  "language_info": {
   "name": "python"
  }
 },
 "nbformat": 4,
 "nbformat_minor": 2
}
