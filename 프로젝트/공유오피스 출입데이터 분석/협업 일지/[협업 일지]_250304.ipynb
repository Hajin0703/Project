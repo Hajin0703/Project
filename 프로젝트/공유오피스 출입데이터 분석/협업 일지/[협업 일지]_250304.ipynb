{
 "cells": [
  {
   "cell_type": "markdown",
   "metadata": {},
   "source": [
    "### 협업일지\n",
    "#### 일자 : 2025-03-04 / 박하진"
   ]
  },
  {
   "cell_type": "markdown",
   "metadata": {},
   "source": [
    "#### 오늘 할 일\n",
    "-\n",
    "- \n",
    "-"
   ]
  },
  {
   "cell_type": "markdown",
   "metadata": {},
   "source": [
    "#### 오늘 한 일\n",
    "- 분석 보고서에 들어갈 공유 오피스 마케팅 방안 마련을 위한 실제 마케팅 사례 조사\n",
    "- 분석 보고서 작성하기\n",
    "- 주말동안 했던 모델 결과 공유하기"
   ]
  },
  {
   "cell_type": "markdown",
   "metadata": {},
   "source": [
    "#### 내일 할 일\n",
    "-\n",
    "-\n",
    "-"
   ]
  },
  {
   "cell_type": "markdown",
   "metadata": {},
   "source": [
    "#### Codes"
   ]
  },
  {
   "cell_type": "markdown",
   "metadata": {},
   "source": [
    "#### Issues & Challenges\n",
    "-\n",
    "-\n",
    "-"
   ]
  },
  {
   "cell_type": "markdown",
   "metadata": {},
   "source": [
    "#### Reflection\n",
    "- \n",
    "-\n",
    "-"
   ]
  },
  {
   "cell_type": "markdown",
   "metadata": {},
   "source": [
    "### 분류 모델 표 정리\n",
    "\n",
    "1. 분류 모델 : RandomForest\n",
    "2. 사용 데이터 : trial_visit_info2.csv\n",
    "3. 분류 파라미터 : {'n_estimators': 100, 'min_samples_split': 20, 'min_samples_leaf': 2, 'max_features': 'log2', 'max_depth': 10}\n",
    "4. 정확도 표 :\n",
    "\n",
    "class|precision|recall|f1-score|support\n",
    "|---|---|---|---|---|\n",
    "0       |0.68|     0.87|      0.76|       749\n",
    "1       |0.63|      0.34|      0.44|       471\n",
    "accuracy|         |          |       0.67|      1220\n",
    "macro avg|0.65      |0.61      |0.60      |1220\n",
    "weighted avg      | 0.66      |0.67      |0.64      |1220"
   ]
  }
 ],
 "metadata": {
  "language_info": {
   "name": "python"
  }
 },
 "nbformat": 4,
 "nbformat_minor": 2
}
