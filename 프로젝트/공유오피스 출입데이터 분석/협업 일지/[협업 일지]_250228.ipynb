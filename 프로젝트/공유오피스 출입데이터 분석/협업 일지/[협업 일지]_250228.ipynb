{
 "cells": [
  {
   "cell_type": "markdown",
   "metadata": {},
   "source": [
    "### 협업일지\n",
    "#### 일자 : 2025-02- / 박하진"
   ]
  },
  {
   "cell_type": "markdown",
   "metadata": {},
   "source": [
    "#### 오늘 할 일\n",
    "-\n",
    "- \n",
    "-"
   ]
  },
  {
   "cell_type": "markdown",
   "metadata": {},
   "source": [
    "#### 오늘 한 일\n",
    "- 방문 패턴 데이터 분석\n",
    "- 클러스터링 결과 분석"
   ]
  },
  {
   "cell_type": "markdown",
   "metadata": {},
   "source": [
    "#### 내일 할 일\n",
    "-\n",
    "-\n",
    "-"
   ]
  },
  {
   "cell_type": "markdown",
   "metadata": {},
   "source": [
    "#### Codes"
   ]
  },
  {
   "cell_type": "markdown",
   "metadata": {},
   "source": [
    "#### Issues & Challenges\n",
    "- \n",
    "-\n",
    "-"
   ]
  },
  {
   "cell_type": "markdown",
   "metadata": {},
   "source": [
    "#### Reflection\n",
    "- 방문 패턴에 대한 다양한 특성(예: 총 방문 일수, 평균 방문 빈도, 평균 체류 시간 등)을 기반으로 클러스터링을 수행했습니다.\n",
    "- first_visit_time, last_visit_time 등을 활용하여 방문일수를 계산하거나, 클러스터링을 위한 변수들을 표준화하고 변환하는 작업을 진행했습니다.\n",
    "- K-Means 클러스터링을 수행하여 각 클러스터에 속하는 유저들의 특성을 확인했습니다.\n",
    "- total_visit_days, avg_visit_frequency, avg_stay_time_hour, weekend_ratio 등을 클러스터별로 비교하여 각 클러스터의 특성을 파악했습니다.\n",
    "- K-Means 외에도 DBSCAN, Agglomerative Clustering, GMM 등 다양한 클러스터링 기법을 실험할 수 있다는 점을 확인했습니다.\n",
    "    - 이를 통해 다양한 방법을 적용해 본 후, 가장 적합한 방법을 선택할 계획입니다."
   ]
  }
 ],
 "metadata": {
  "language_info": {
   "name": "python"
  }
 },
 "nbformat": 4,
 "nbformat_minor": 2
}
