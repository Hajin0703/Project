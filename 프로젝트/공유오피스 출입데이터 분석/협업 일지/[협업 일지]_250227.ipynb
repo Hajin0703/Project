{
 "cells": [
  {
   "cell_type": "markdown",
   "metadata": {},
   "source": [
    "### 협업일지\n",
    "#### 일자 : 2025-02-27 / 박하진"
   ]
  },
  {
   "cell_type": "markdown",
   "metadata": {},
   "source": [
    "#### 오늘 할 일\n",
    "-\n",
    "- \n",
    "-"
   ]
  },
  {
   "cell_type": "markdown",
   "metadata": {},
   "source": [
    "#### 오늘 한 일\n",
    "- 선우님이 마무리하신 전처리 데이터 가지고 클러스터링 다시 하기\n",
    "- 클러스터 별 결제 비율 분석하기\n",
    "- 예측 모델 구현하기"
   ]
  },
  {
   "cell_type": "markdown",
   "metadata": {},
   "source": [
    "#### 내일 할 일\n",
    "-\n",
    "-\n",
    "-"
   ]
  },
  {
   "cell_type": "markdown",
   "metadata": {},
   "source": [
    "#### Codes"
   ]
  },
  {
   "cell_type": "markdown",
   "metadata": {},
   "source": [
    "#### Issues & Challenges\n",
    "-\n",
    "-\n",
    "-"
   ]
  },
  {
   "cell_type": "markdown",
   "metadata": {},
   "source": [
    "#### Reflection\n",
    "- 클러스터 분석을 통해 다양한 인사이트를 얻을 수 있었고, 이어서 모델 구현을 팀원과 했습니다.\n",
    "- 하지만 현재 데이터가 가진 한계성이 좀 있어서 모델의 성능이 좀 낮게 나왔습니다.\n",
    "- 가지고 있는 데이터를 가지고 다양한 파생변수를 더 만들어서 모델의 성능을 더 높여봐야겠습니다.\n",
    "- 모델의 성능에 초점을 맞추기보다 저희 팀만의 목적과 색깔에 좀 더 집중해서 인사이트를 도출하는 쪽으로 하는것이 좋을 것 같다고 생각이 들었습니다."
   ]
  }
 ],
 "metadata": {
  "language_info": {
   "name": "python"
  }
 },
 "nbformat": 4,
 "nbformat_minor": 2
}
